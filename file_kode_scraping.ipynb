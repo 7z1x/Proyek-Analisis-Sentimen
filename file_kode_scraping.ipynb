{
  "nbformat": 4,
  "nbformat_minor": 0,
  "metadata": {
    "colab": {
      "provenance": []
    },
    "kernelspec": {
      "name": "python3",
      "display_name": "Python 3"
    },
    "language_info": {
      "name": "python"
    }
  },
  "cells": [
    {
      "cell_type": "code",
      "source": [
        "!pip install google-play-scraper"
      ],
      "metadata": {
        "colab": {
          "base_uri": "https://localhost:8080/"
        },
        "id": "YkTBOs-BN-Hd",
        "outputId": "f738d28d-5402-45b3-d13c-37c6b5ed3199"
      },
      "execution_count": 1,
      "outputs": [
        {
          "output_type": "stream",
          "name": "stdout",
          "text": [
            "Collecting google-play-scraper\n",
            "  Downloading google_play_scraper-1.2.7-py3-none-any.whl.metadata (50 kB)\n",
            "\u001b[?25l     \u001b[90m━━━━━━━━━━━━━━━━━━━━━━━━━━━━━━━━━━━━━━━━\u001b[0m \u001b[32m0.0/50.2 kB\u001b[0m \u001b[31m?\u001b[0m eta \u001b[36m-:--:--\u001b[0m\r\u001b[2K     \u001b[90m━━━━━━━━━━━━━━━━━━━━━━━━━━━━━━━━━━━━━━━━\u001b[0m \u001b[32m50.2/50.2 kB\u001b[0m \u001b[31m1.5 MB/s\u001b[0m eta \u001b[36m0:00:00\u001b[0m\n",
            "\u001b[?25hDownloading google_play_scraper-1.2.7-py3-none-any.whl (28 kB)\n",
            "Installing collected packages: google-play-scraper\n",
            "Successfully installed google-play-scraper-1.2.7\n"
          ]
        }
      ]
    },
    {
      "cell_type": "code",
      "source": [
        "from google_play_scraper import app, reviews, Sort, reviews_all\n",
        "import csv"
      ],
      "metadata": {
        "id": "d29ZN8eeNyWi"
      },
      "execution_count": 2,
      "outputs": []
    },
    {
      "cell_type": "code",
      "execution_count": 3,
      "metadata": {
        "id": "rXCRzMX2JQ5L"
      },
      "outputs": [],
      "source": [
        "scrapreview = reviews_all(\n",
        "    'com.gojek.gopay',\n",
        "    lang='id',\n",
        "    country='id',\n",
        "    sort=Sort.MOST_RELEVANT,\n",
        ")\n",
        "\n",
        "scrapreview = scrapreview[:5000]"
      ]
    },
    {
      "cell_type": "code",
      "source": [
        "collumns = scrapreview[0].keys()\n",
        "with open('dataset_scaraping_5000.csv', mode='w', newline='', encoding='utf-8') as file:\n",
        "    writer = csv.writer(file)\n",
        "    writer.writerow(collumns)\n",
        "    for review in scrapreview:\n",
        "        writer.writerow(review.values())"
      ],
      "metadata": {
        "id": "C0MXe48DNzAR"
      },
      "execution_count": 4,
      "outputs": []
    }
  ]
}